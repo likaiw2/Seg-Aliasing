{
 "cells": [
  {
   "cell_type": "code",
   "execution_count": 2,
   "metadata": {},
   "outputs": [],
   "source": [
    "import numpy as np\n",
    "import PIL.Image as Image\n",
    "\n",
    "pic = Image.open(\"/home/liw324/code/Segment/Seg-Aliasing/dataset/cityscapes/leftImg8bit/train/aachen/aachen_000000_000019_leftImg8bit.png\")\n",
    "pic_numpy = np.array(pic)\n"
   ]
  },
  {
   "cell_type": "code",
   "execution_count": 3,
   "metadata": {},
   "outputs": [
    {
     "name": "stdout",
     "output_type": "stream",
     "text": [
      "(1024, 2048, 3)\n"
     ]
    }
   ],
   "source": [
    "print(pic_numpy.shape)"
   ]
  },
  {
   "cell_type": "code",
   "execution_count": 4,
   "metadata": {},
   "outputs": [],
   "source": [
    "import numpy as np\n",
    "import PIL.Image as Image\n",
    "\n",
    "gtFine_labelIds = Image.open(\"/home/liw324/code/Segment/Seg-Aliasing/dataset/cityscapes/gtFine/test/berlin/berlin_000000_000019_gtFine_labelIds.png\")\n",
    "gtFine_labelIds_numpy = np.array(gtFine_labelIds)\n"
   ]
  },
  {
   "cell_type": "code",
   "execution_count": 5,
   "metadata": {},
   "outputs": [
    {
     "name": "stdout",
     "output_type": "stream",
     "text": [
      "(1024, 2048)\n"
     ]
    }
   ],
   "source": [
    "print(gtFine_labelIds_numpy.shape)"
   ]
  },
  {
   "cell_type": "code",
   "execution_count": 6,
   "metadata": {},
   "outputs": [
    {
     "name": "stdout",
     "output_type": "stream",
     "text": [
      "[0 1 3]\n"
     ]
    }
   ],
   "source": [
    "print(np.unique(gtFine_labelIds_numpy))\n"
   ]
  },
  {
   "cell_type": "code",
   "execution_count": 15,
   "metadata": {},
   "outputs": [
    {
     "name": "stdout",
     "output_type": "stream",
     "text": [
      "[    0     1     3     4     7     8    11    17    20    21    22    23\n",
      " 24000 24001 25000 26003 26004 26005 26006 26007 26008 26009 26010 33000\n",
      " 33001]\n"
     ]
    }
   ],
   "source": [
    "\n",
    "gtFine_instanceIds = Image.open(\"/home/liw324/code/Segment/Seg-Aliasing/dataset/cityscapes/gtFine/train/aachen/aachen_000000_000019_gtFine_instanceIds.png\")\n",
    "gtFine_instanceIds_numpy = np.array(gtFine_instanceIds)\n",
    "print(np.unique(gtFine_instanceIds_numpy))\n"
   ]
  },
  {
   "cell_type": "code",
   "execution_count": 2,
   "metadata": {},
   "outputs": [
    {
     "ename": "TypeError",
     "evalue": "__init__() got an unexpected keyword argument 'image_dir'",
     "output_type": "error",
     "traceback": [
      "\u001b[0;31m---------------------------------------------------------------------------\u001b[0m",
      "\u001b[0;31mTypeError\u001b[0m                                 Traceback (most recent call last)",
      "Cell \u001b[0;32mIn[2], line 3\u001b[0m\n\u001b[1;32m      1\u001b[0m \u001b[38;5;28;01mfrom\u001b[39;00m\u001b[38;5;250m \u001b[39m\u001b[38;5;21;01mmmseg_custom\u001b[39;00m\u001b[38;5;21;01m.\u001b[39;00m\u001b[38;5;21;01mdatasets\u001b[39;00m\u001b[38;5;250m \u001b[39m\u001b[38;5;28;01mimport\u001b[39;00m CityscapesDataset\n\u001b[0;32m----> 3\u001b[0m dataset \u001b[38;5;241m=\u001b[39m \u001b[43mCityscapesDataset\u001b[49m\u001b[43m(\u001b[49m\u001b[43mimage_dir\u001b[49m\u001b[38;5;241;43m=\u001b[39;49m\u001b[38;5;124;43m'\u001b[39;49m\u001b[38;5;124;43m/data/likai/cityscapes/leftImg8bit/test\u001b[39;49m\u001b[38;5;124;43m'\u001b[39;49m\u001b[43m,\u001b[49m\u001b[43m \u001b[49m\n\u001b[1;32m      4\u001b[0m \u001b[43m                            \u001b[49m\u001b[43mmask_dir\u001b[49m\u001b[38;5;241;43m=\u001b[39;49m\u001b[38;5;124;43m'\u001b[39;49m\u001b[38;5;124;43m/data/likai/cityscapes/gtFine/test\u001b[39;49m\u001b[38;5;124;43m'\u001b[39;49m\u001b[43m,\u001b[49m\u001b[43m \u001b[49m\n\u001b[1;32m      5\u001b[0m \u001b[43m                            \u001b[49m\u001b[43mtransforms\u001b[49m\u001b[38;5;241;43m=\u001b[39;49m\u001b[38;5;28;43;01mNone\u001b[39;49;00m\u001b[43m,\u001b[49m\u001b[43mimg_suffix\u001b[49m\u001b[38;5;241;43m=\u001b[39;49m\u001b[38;5;124;43m'\u001b[39;49m\u001b[38;5;124;43m_leftImg8bit.png\u001b[39;49m\u001b[38;5;124;43m'\u001b[39;49m\u001b[43m,\u001b[49m\n\u001b[1;32m      6\u001b[0m \u001b[43m                            \u001b[49m\u001b[43mseg_map_suffix\u001b[49m\u001b[38;5;241;43m=\u001b[39;49m\u001b[38;5;124;43m'\u001b[39;49m\u001b[38;5;124;43m_gtFine_labelIds.png\u001b[39;49m\u001b[38;5;124;43m'\u001b[39;49m\u001b[43m,\u001b[49m\n\u001b[1;32m      7\u001b[0m \u001b[43m                            \u001b[49m\u001b[43m)\u001b[49m\n\u001b[1;32m      8\u001b[0m \u001b[38;5;28mprint\u001b[39m(\u001b[38;5;28mlen\u001b[39m(dataset))\n\u001b[1;32m      9\u001b[0m image, meta \u001b[38;5;241m=\u001b[39m dataset[\u001b[38;5;241m0\u001b[39m]\n",
      "File \u001b[0;32m~/code/Segment/Seg-Aliasing/mmseg_custom/datasets/cityscapes.py:36\u001b[0m, in \u001b[0;36mCityscapesDataset.__init__\u001b[0;34m(self, img_suffix, seg_map_suffix, **kwargs)\u001b[0m\n\u001b[1;32m     32\u001b[0m \u001b[38;5;28;01mdef\u001b[39;00m\u001b[38;5;250m \u001b[39m\u001b[38;5;21m__init__\u001b[39m(\u001b[38;5;28mself\u001b[39m,\n\u001b[1;32m     33\u001b[0m              img_suffix\u001b[38;5;241m=\u001b[39m\u001b[38;5;124m'\u001b[39m\u001b[38;5;124m_leftImg8bit.png\u001b[39m\u001b[38;5;124m'\u001b[39m,\n\u001b[1;32m     34\u001b[0m              seg_map_suffix\u001b[38;5;241m=\u001b[39m\u001b[38;5;124m'\u001b[39m\u001b[38;5;124m_gtFine_labelIds.png\u001b[39m\u001b[38;5;124m'\u001b[39m,\n\u001b[1;32m     35\u001b[0m              \u001b[38;5;241m*\u001b[39m\u001b[38;5;241m*\u001b[39mkwargs):\n\u001b[0;32m---> 36\u001b[0m     \u001b[38;5;28;43msuper\u001b[39;49m\u001b[43m(\u001b[49m\u001b[43mCityscapesDataset\u001b[49m\u001b[43m,\u001b[49m\u001b[43m \u001b[49m\u001b[38;5;28;43mself\u001b[39;49m\u001b[43m)\u001b[49m\u001b[38;5;241;43m.\u001b[39;49m\u001b[38;5;21;43m__init__\u001b[39;49m\u001b[43m(\u001b[49m\n\u001b[1;32m     37\u001b[0m \u001b[43m        \u001b[49m\u001b[43mimg_suffix\u001b[49m\u001b[38;5;241;43m=\u001b[39;49m\u001b[43mimg_suffix\u001b[49m\u001b[43m,\u001b[49m\u001b[43m \u001b[49m\u001b[43mseg_map_suffix\u001b[49m\u001b[38;5;241;43m=\u001b[39;49m\u001b[43mseg_map_suffix\u001b[49m\u001b[43m,\u001b[49m\u001b[43m \u001b[49m\u001b[38;5;241;43m*\u001b[39;49m\u001b[38;5;241;43m*\u001b[39;49m\u001b[43mkwargs\u001b[49m\u001b[43m)\u001b[49m\n",
      "\u001b[0;31mTypeError\u001b[0m: __init__() got an unexpected keyword argument 'image_dir'"
     ]
    }
   ],
   "source": [
    "from mmseg_custom.datasets import CityscapesDataset\n",
    "\n",
    "dataset = CityscapesDataset(image_dir='/data/likai/cityscapes/leftImg8bit/test', \n",
    "                            mask_dir='/data/likai/cityscapes/gtFine/test', \n",
    "                            transforms=None,img_suffix='_leftImg8bit.png',\n",
    "                            seg_map_suffix='_gtFine_labelIds.png',\n",
    "                            )\n",
    "print(len(dataset))\n",
    "image, meta = dataset[0]\n",
    "print(image.shape)\n",
    "print(meta['imagen'])\n",
    "print(meta['raw_image'].shape)\n",
    "print(meta['mask'].shape)\n",
    "# print(meta['mask'])\n",
    "print(np.unique(meta['mask']))\n",
    "print()"
   ]
  },
  {
   "cell_type": "code",
   "execution_count": 6,
   "metadata": {},
   "outputs": [
    {
     "name": "stdout",
     "output_type": "stream",
     "text": [
      "[ 0  1  3  4  7  8 11 17 20 21 22 23 24 25 26 33]\n",
      "[ 0  1  2  5  7  8  9 10 11 12 13 18]\n"
     ]
    },
    {
     "name": "stderr",
     "output_type": "stream",
     "text": [
      "/tmp/ipykernel_1267007/1458144694.py:22: DeprecationWarning: NumPy will stop allowing conversion of out-of-bound Python integers to integer arrays.  The conversion of -1 to uint8 will fail in the future.\n",
      "For the old behavior, usually:\n",
      "    np.array(value).astype(dtype)\n",
      "will give the desired result (the cast overflows).\n",
      "  mask_copy[mask == label.id] = label.trainId\n"
     ]
    }
   ],
   "source": [
    "import numpy as np\n",
    "import PIL.Image as Image\n",
    "gtFine_instanceIds = Image.open(\"/home/liw324/code/Segment/Seg-Aliasing/dataset/cityscapes/gtFine/train/aachen/aachen_000000_000019_gtFine_labelIds.png\")\n",
    "gtFine_instanceIds_numpy = np.array(gtFine_instanceIds)\n",
    "print(np.unique(gtFine_instanceIds_numpy))\n",
    "\n",
    "# def _convert_to_label_id(result):\n",
    "#     \"\"\"Convert trainId to id for cityscapes.\"\"\"\n",
    "#     if isinstance(result, str):\n",
    "#         result = np.load(result)\n",
    "#     import cityscapesscripts.helpers.labels as CSLabels\n",
    "#     result_copy = result.copy()\n",
    "#     for trainId, label in CSLabels.trainId2label.items():\n",
    "#         result_copy[result == trainId] = label.id\n",
    "\n",
    "#     return result_copy\n",
    "\n",
    "import cityscapesscripts.helpers.labels as CSLabels\n",
    "def convert_label_ids_to_train_ids(mask):\n",
    "    mask_copy = mask.copy()\n",
    "    for label in CSLabels.labels:\n",
    "        mask_copy[mask == label.id] = label.trainId\n",
    "        \n",
    "    # Set the ignored labels to 255\n",
    "    mask_copy[mask_copy == 255] = 0\n",
    "    \n",
    "    return mask_copy\n",
    "\n",
    "print(np.unique(convert_label_ids_to_train_ids(gtFine_instanceIds_numpy)))\n",
    "\n"
   ]
  },
  {
   "cell_type": "code",
   "execution_count": 6,
   "metadata": {},
   "outputs": [
    {
     "ename": "ImportError",
     "evalue": "cannot import name 'EarthVQADataset' from 'mmseg_custom.datasets' (/home/liw324/code/Segment/Seg-Aliasing/mmseg_custom/datasets/__init__.py)",
     "output_type": "error",
     "traceback": [
      "\u001b[0;31m---------------------------------------------------------------------------\u001b[0m",
      "\u001b[0;31mImportError\u001b[0m                               Traceback (most recent call last)",
      "Cell \u001b[0;32mIn[6], line 4\u001b[0m\n\u001b[1;32m      2\u001b[0m \u001b[38;5;28;01mimport\u001b[39;00m\u001b[38;5;250m \u001b[39m\u001b[38;5;21;01msys\u001b[39;00m\n\u001b[1;32m      3\u001b[0m \u001b[38;5;66;03m# from mmseg_custom.datasets.pipelines import Compose\u001b[39;00m\n\u001b[0;32m----> 4\u001b[0m \u001b[38;5;28;01mfrom\u001b[39;00m\u001b[38;5;250m \u001b[39m\u001b[38;5;21;01mmmseg_custom\u001b[39;00m\u001b[38;5;21;01m.\u001b[39;00m\u001b[38;5;21;01mdatasets\u001b[39;00m\u001b[38;5;250m \u001b[39m\u001b[38;5;28;01mimport\u001b[39;00m EarthVQADataset\n\u001b[1;32m      6\u001b[0m EarthVQADataset()\n",
      "\u001b[0;31mImportError\u001b[0m: cannot import name 'EarthVQADataset' from 'mmseg_custom.datasets' (/home/liw324/code/Segment/Seg-Aliasing/mmseg_custom/datasets/__init__.py)"
     ]
    }
   ],
   "source": [
    "\n",
    "# test_pipeline.py\n",
    "import sys\n",
    "# from mmseg_custom.datasets.pipelines import Compose\n",
    "from mmseg_custom.datasets import EarthVQADataset\n",
    "\n",
    "EarthVQADataset()"
   ]
  }
 ],
 "metadata": {
  "kernelspec": {
   "display_name": "seg-alising",
   "language": "python",
   "name": "python3"
  },
  "language_info": {
   "codemirror_mode": {
    "name": "ipython",
    "version": 3
   },
   "file_extension": ".py",
   "mimetype": "text/x-python",
   "name": "python",
   "nbconvert_exporter": "python",
   "pygments_lexer": "ipython3",
   "version": "3.9.21"
  }
 },
 "nbformat": 4,
 "nbformat_minor": 2
}
